{
 "cells": [
  {
   "cell_type": "markdown",
   "metadata": {},
   "source": [
    "### Analyzing the Stroop Effect\n",
    "Perform the analysis in the space below. Remember to follow [the instructions](https://docs.google.com/document/d/1-OkpZLjG_kX9J6LIQ5IltsqMzVWjh36QpnP2RYpVdPU/pub?embedded=True) and review the [project rubric](https://review.udacity.com/#!/rubrics/71/view) before submitting. Once you've completed the analysis and write-up, download this file as a PDF or HTML file, upload that PDF/HTML into the workspace here (click on the orange Jupyter icon in the upper left then Upload), then use the Submit Project button at the bottom of this page. This will create a zip file containing both this .ipynb doc and the PDF/HTML doc that will be submitted for your project.\n",
    "\n",
    "\n",
    "(1) What is the independent variable? What is the dependent variable?"
   ]
  },
  {
   "cell_type": "markdown",
   "metadata": {},
   "source": [
    "#### Independent variable: \n",
    "The independent variable in this experiment is whether _the word content_ and _the font color of the word_  are the same or different, in other words it is if the experiment is _congruent_ or _incongruent_\n",
    "#### Dependent variable:\n",
    "The dependent variable is the response time (RT) of the participant to identify the font color of the word."
   ]
  },
  {
   "cell_type": "markdown",
   "metadata": {},
   "source": [
    "(2) What is an appropriate set of hypotheses for this task? Specify your null and alternative hypotheses, and clearly define any notation used. Justify your choices."
   ]
  },
  {
   "cell_type": "markdown",
   "metadata": {},
   "source": [
    "#### What is an appropriate set of hypotheses for this task?\n",
    "H0 (Null Hypothesis): There is no difference in the means of the polulation response time under incongruent and congruent conditions, which can be mathematically represented as : \n",
    "\n",
    "    $$ H1: μ_{I} - μ_{C} = 0 $$\n",
    "\n",
    "H1 (Alternate Hypothesis): The means of the population response time under the incongruent condition will be greater than the means under the congruent condition, which can be mathematically represented as :\n",
    "    $$ H1: μ_{I} - μ_{C} > 0 $$\n",
    "  "
   ]
  },
  {
   "cell_type": "markdown",
   "metadata": {},
   "source": [
    "####  What kind of statistical test to perform?\n",
    "- Based on above, we can conclude that a one-tailed-dependent sample t-test comparing the difference in means (the response time to identify the colors for congruent and incongruent words) should be performed.\n",
    "\n",
    "- By performing this one-tailed test, we aim to find out whether it was just a matter of chance that the mean response time taken to identify the color of the congruent words was significantly less than that of incongruent words. Or, is there enough evidence to infer that the mean response time for congruent words will be less than that of incongruent words for the entire population and not only the sample data.\n",
    "\n",
    "- As we don’t know the population parameters (µ & σ) and we have paired sample data, a t-test for “within-subject designs” seems to be the correct choice. In this case, the within-subject design is two-conditions (each subject assigned 2 conditions in random order). \n",
    "\n",
    "- Additionally, we only need to perform a one-tailed dependent t-test for paired samples as we are only interested in finding out whether the color of congruent words are easier to identify as compared to incongruent words or not.\n",
    "\n",
    "The dependent sample t-test main assumptions:\n",
    "\n",
    "- The dependent variable must be continuous (in our case the time it takes to read the words).\n",
    "- The observations are independent of one another.\n",
    "- The dependent variable should be approximately normally distributed.\n",
    "- The dependent variable should not contain any outliers.\n",
    "\n",
    "For our data we have: \n",
    "- Confidence level 99% (alpha = 0.01) \n",
    "- Degrees of freedom 23 ( = 24 - 1 ) \n",
    "- Resulting t_critical = -2.5\n"
   ]
  },
  {
   "cell_type": "markdown",
   "metadata": {},
   "source": [
    "(3) Report some descriptive statistics regarding this dataset. Include at least one measure of central tendency and at least one measure of variability. The name of the data file is 'stroopdata.csv'."
   ]
  },
  {
   "cell_type": "code",
   "execution_count": 2,
   "metadata": {},
   "outputs": [],
   "source": [
    "#Importing some needed libraries\n",
    "import pandas as pd\n",
    "import numpy as np\n",
    "import matplotlib.pyplot as plt\n",
    "import seaborn as sns\n",
    "from scipy import stats\n",
    "%matplotlib inline"
   ]
  },
  {
   "cell_type": "code",
   "execution_count": 3,
   "metadata": {},
   "outputs": [
    {
     "name": "stdout",
     "output_type": "stream",
     "text": [
      "<class 'pandas.core.frame.DataFrame'>\n",
      "RangeIndex: 24 entries, 0 to 23\n",
      "Data columns (total 2 columns):\n",
      "Congruent      24 non-null float64\n",
      "Incongruent    24 non-null float64\n",
      "dtypes: float64(2)\n",
      "memory usage: 464.0 bytes\n"
     ]
    }
   ],
   "source": [
    "#Reading the data\n",
    "df = pd.read_csv('stroopdata.csv')\n",
    "df.info()"
   ]
  },
  {
   "cell_type": "code",
   "execution_count": 4,
   "metadata": {},
   "outputs": [
    {
     "name": "stdout",
     "output_type": "stream",
     "text": [
      "    Congruent  Incongruent  Difference\n",
      "19     12.369       34.288      21.919\n",
      "14     18.200       35.255      17.055\n",
      "9      14.480       26.282      11.802\n",
      "2       9.564       21.214      11.650\n",
      "8       9.401       20.762      11.361\n",
      "20     12.944       23.894      10.950\n",
      "15     12.130       22.158      10.028\n",
      "6      14.692       24.572       9.880\n",
      "17     10.639       20.429       9.790\n",
      "5      12.238       20.878       8.640\n",
      "7       8.987       17.394       8.407\n",
      "4      14.669       22.803       8.134\n",
      "0      12.079       19.278       7.199\n",
      "3       8.630       15.687       7.057\n",
      "16     18.495       25.139       6.644\n",
      "18     11.344       17.425       6.081\n",
      "23     16.004       21.157       5.153\n",
      "21     14.233       17.960       3.727\n",
      "13     16.929       20.330       3.401\n",
      "11     15.298       18.644       3.346\n",
      "12     15.073       17.510       2.437\n",
      "22     19.710       22.058       2.348\n",
      "10     22.328       24.524       2.196\n",
      "1      16.791       18.741       1.950\n"
     ]
    }
   ],
   "source": [
    "# Add difference between Congruent and Incongruent time to dataframe\n",
    "df['Difference'] = df['Incongruent'] - df['Congruent']\n",
    "print(df.sort_values(by='Difference', ascending=False))"
   ]
  },
  {
   "cell_type": "code",
   "execution_count": 5,
   "metadata": {},
   "outputs": [
    {
     "data": {
      "text/html": [
       "<div>\n",
       "<style scoped>\n",
       "    .dataframe tbody tr th:only-of-type {\n",
       "        vertical-align: middle;\n",
       "    }\n",
       "\n",
       "    .dataframe tbody tr th {\n",
       "        vertical-align: top;\n",
       "    }\n",
       "\n",
       "    .dataframe thead th {\n",
       "        text-align: right;\n",
       "    }\n",
       "</style>\n",
       "<table border=\"1\" class=\"dataframe\">\n",
       "  <thead>\n",
       "    <tr style=\"text-align: right;\">\n",
       "      <th></th>\n",
       "      <th>Congruent</th>\n",
       "      <th>Incongruent</th>\n",
       "      <th>Difference</th>\n",
       "    </tr>\n",
       "  </thead>\n",
       "  <tbody>\n",
       "    <tr>\n",
       "      <th>count</th>\n",
       "      <td>24.000000</td>\n",
       "      <td>24.000000</td>\n",
       "      <td>24.000000</td>\n",
       "    </tr>\n",
       "    <tr>\n",
       "      <th>mean</th>\n",
       "      <td>14.051125</td>\n",
       "      <td>22.015917</td>\n",
       "      <td>7.964792</td>\n",
       "    </tr>\n",
       "    <tr>\n",
       "      <th>std</th>\n",
       "      <td>3.559358</td>\n",
       "      <td>4.797057</td>\n",
       "      <td>4.864827</td>\n",
       "    </tr>\n",
       "    <tr>\n",
       "      <th>min</th>\n",
       "      <td>8.630000</td>\n",
       "      <td>15.687000</td>\n",
       "      <td>1.950000</td>\n",
       "    </tr>\n",
       "    <tr>\n",
       "      <th>25%</th>\n",
       "      <td>11.895250</td>\n",
       "      <td>18.716750</td>\n",
       "      <td>3.645500</td>\n",
       "    </tr>\n",
       "    <tr>\n",
       "      <th>50%</th>\n",
       "      <td>14.356500</td>\n",
       "      <td>21.017500</td>\n",
       "      <td>7.666500</td>\n",
       "    </tr>\n",
       "    <tr>\n",
       "      <th>75%</th>\n",
       "      <td>16.200750</td>\n",
       "      <td>24.051500</td>\n",
       "      <td>10.258500</td>\n",
       "    </tr>\n",
       "    <tr>\n",
       "      <th>max</th>\n",
       "      <td>22.328000</td>\n",
       "      <td>35.255000</td>\n",
       "      <td>21.919000</td>\n",
       "    </tr>\n",
       "  </tbody>\n",
       "</table>\n",
       "</div>"
      ],
      "text/plain": [
       "       Congruent  Incongruent  Difference\n",
       "count  24.000000    24.000000   24.000000\n",
       "mean   14.051125    22.015917    7.964792\n",
       "std     3.559358     4.797057    4.864827\n",
       "min     8.630000    15.687000    1.950000\n",
       "25%    11.895250    18.716750    3.645500\n",
       "50%    14.356500    21.017500    7.666500\n",
       "75%    16.200750    24.051500   10.258500\n",
       "max    22.328000    35.255000   21.919000"
      ]
     },
     "execution_count": 5,
     "metadata": {},
     "output_type": "execute_result"
    }
   ],
   "source": [
    "df.describe()"
   ]
  },
  {
   "cell_type": "markdown",
   "metadata": {},
   "source": [
    "- The study contains 24 pairs of observations for Congruent and Incongruent reading time. \n",
    "- The average time for reading congruent color names is 14 seconds, while for incongruent color names this was 22. \n",
    "- The minimum difference in reading times was close to 2 seconds while the maximum difference was nearly 22 seconds. \n",
    "- The standard deviation whithin the difference was 4.86 seconds."
   ]
  },
  {
   "cell_type": "markdown",
   "metadata": {},
   "source": [
    "(4) Provide one or two visualizations that show the distribution of the sample data. Write one or two sentences noting what you observe about the plot or plots."
   ]
  },
  {
   "cell_type": "code",
   "execution_count": 6,
   "metadata": {},
   "outputs": [
    {
     "data": {
      "image/png": "[encoded data removed]",
      "text/plain": [
       "<matplotlib.figure.Figure at 0x7f14cc28c5c0>"
      ]
     },
     "metadata": {
      "needs_background": "light"
     },
     "output_type": "display_data"
    }
   ],
   "source": [
    "# Histograms Congruent, Incongruent, Difference\n",
    "df.hist();"
   ]
  },
  {
   "cell_type": "code",
   "execution_count": 28,
   "metadata": {},
   "outputs": [
    {
     "data": {
      "text/plain": [
       "<matplotlib.legend.Legend at 0x7f1499d0e860>"
      ]
     },
     "execution_count": 28,
     "metadata": {},
     "output_type": "execute_result"
    },
    {
     "data": {
      "image/png": "[encoded data removed]",
      "text/plain": [
       "<matplotlib.figure.Figure at 0x7f149a245390>"
      ]
     },
     "metadata": {
      "needs_background": "light"
     },
     "output_type": "display_data"
    }
   ],
   "source": [
    "# Bar chart for Congruent, Incongruent\n",
    "plt.bar(df.index,alpha = 0.5, height = df['Incongruent'], label = 'Incongruent')\n",
    "plt.bar(df.index,alpha = 0.5, height = df['Congruent'], label = 'Congruent')\n",
    "plt.title('Time for reading congruent and incongruent texts and the difference between them')\n",
    "plt.ylabel('Time (seconds)')\n",
    "plt.xlabel('Experiment number')\n",
    "plt.legend()"
   ]
  },
  {
   "cell_type": "code",
   "execution_count": 8,
   "metadata": {},
   "outputs": [
    {
     "data": {
      "text/plain": [
       "Text(0.5,0,'Experiment')"
      ]
     },
     "execution_count": 8,
     "metadata": {},
     "output_type": "execute_result"
    },
    {
     "data": {
      "image/png": "[encoded data removed]",
      "text/plain": [
       "<matplotlib.figure.Figure at 0x7f149a7f1438>"
      ]
     },
     "metadata": {
      "needs_background": "light"
     },
     "output_type": "display_data"
    }
   ],
   "source": [
    "# Boxplot for Congruent, Incongruent, Difference\n",
    "df.plot(kind='box',title=\"Boxplot of Congruent, Incongruent and Difference in time of reading (s)\")\n",
    "plt.ylabel('Time (seconds)')\n",
    "plt.xlabel('Experiment')"
   ]
  },
  {
   "cell_type": "markdown",
   "metadata": {},
   "source": [
    "The plots show that the incongruence words shows a higher variability in time taken to identify the colors and that the mean response time taken is also higher than in the congruent words situation."
   ]
  },
  {
   "cell_type": "markdown",
   "metadata": {},
   "source": [
    "(5)  Now, perform the statistical test and report your results. What is your confidence level or Type I error associated with your test? What is your conclusion regarding the hypotheses you set up? Did the results match up with your expectations? **Hint:**  Think about what is being measured on each individual, and what statistic best captures how an individual reacts in each environment."
   ]
  },
  {
   "cell_type": "code",
   "execution_count": 17,
   "metadata": {},
   "outputs": [
    {
     "name": "stdout",
     "output_type": "stream",
     "text": [
      "t_calculated = -8.02070694411\n",
      "P value = 4.10300058571e-08\n"
     ]
    }
   ],
   "source": [
    "# Perform the statistical test here\n",
    "sample_size= 23\n",
    "stats.t.ppf(0.975, sample_size)\n",
    "\n",
    "# Calculates the T-test on TWO RELATED samples of scores, a and b.\n",
    "t ,p_value = stats.ttest_rel(df['Congruent'], df['Incongruent'])\n",
    "\n",
    "print(\"t_calculated = \" + str(t))\n",
    "print(\"P value = \" + str(p_value))"
   ]
  },
  {
   "cell_type": "markdown",
   "metadata": {},
   "source": [
    "- The results show that t_calculed of -8.02 is much lower than the t_critical established at question 2 (t_critical=-2.5). Thus, the t_calculated is in the critical region and the NULL hypothesis(H0) is rejected. \n",
    "- This means that the difference in time to identify the colors is statistically different in the case of congruence versus incongruence words."
   ]
  },
  {
   "cell_type": "markdown",
   "metadata": {},
   "source": [
    "(6) Optional: What do you think is responsible for the effects observed? Can you think of an alternative or similar task that would result in a similar effect? Some research about the problem will be helpful for thinking about these two questions!"
   ]
  },
  {
   "cell_type": "markdown",
   "metadata": {},
   "source": [
    "The interference between the different information (what the words say and the color of the words) the brain receives causes a a latency in response time for the brain. There are two theories that may explain the Stroop effect:\n",
    "- Speed of Processing Theory: the interference occurs because words are read faster than colors are identified. \n",
    "- Selective Attention Theory: the interference occurs because identifying colors requires more attention than reading words.\n",
    "\n",
    "A similar task with a similar effect would be the time it takes to complete an Udacity project at home in a quiet environment versus the time it takes for the similar task to complete in a busy cafe."
   ]
  },
  {
   "cell_type": "markdown",
   "metadata": {},
   "source": [
    "#### Refferences:\n",
    "- https://www.statisticssolutions.com/manova-analysis-paired-sample-t-test/\n",
    "- https://faculty.washington.edu/chudler/words.html\n",
    "- https://www.cognifit.com/science/cognitive-skills/processing-speed\n",
    "- https://www.psytoolkit.org/lessons/stroop.html"
   ]
  },
  {
   "cell_type": "code",
   "execution_count": null,
   "metadata": {},
   "outputs": [],
   "source": []
  }
 ],
 "metadata": {
  "kernelspec": {
   "display_name": "Python 3",
   "language": "python",
   "name": "python3"
  },
  "language_info": {
   "codemirror_mode": {
    "name": "ipython",
    "version": 3
   },
   "file_extension": ".py",
   "mimetype": "text/x-python",
   "name": "python",
   "nbconvert_exporter": "python",
   "pygments_lexer": "ipython3",
   "version": "3.6.3"
  }
 },
 "nbformat": 4,
 "nbformat_minor": 2
}
